{
 "cells": [
  {
   "cell_type": "code",
   "execution_count": null,
   "id": "2cc83fff",
   "metadata": {},
   "outputs": [],
   "source": [
    "time = data.drop(['YEAR_MONTH','REGIONAL_OFFICE_NAME',\n",
    "       'REGIONAL_OFFICE_CODE', 'STP_NAME', 'STP_CODE', 'PCO_NAME', 'PCO_CODE',\n",
    "       'PRACTICE_NAME', 'PRACTICE_CODE', 'ADDRESS_1', 'ADDRESS_2', 'ADDRESS_3',\n",
    "       'ADDRESS_4', 'POSTCODE', 'BNF_CHEMICAL_SUBSTANCE',\n",
    "       'CHEMICAL_SUBSTANCE_BNF_DESCR', 'BNF_CODE', 'BNF_DESCRIPTION',\n",
    "       'BNF_CHAPTER_PLUS_CODE', 'QUANTITY', 'ITEMS', 'TOTAL_QUANTITY',\n",
    "       'ADQUSAGE', 'NIC', 'ACTUAL_COST', 'UNIDENTIFIED', 'SNOMED_CODE'], axis =1)"
   ]
  },
  {
   "cell_type": "code",
   "execution_count": null,
   "id": "42ba3f16",
   "metadata": {},
   "outputs": [],
   "source": [
    "df = pd.DataFrame(time)\n",
    "time_df = df.drop_duplicates()\n",
    "time_df"
   ]
  },
  {
   "cell_type": "code",
   "execution_count": null,
   "id": "1a2caedf",
   "metadata": {},
   "outputs": [],
   "source": [
    "time_key = []\n",
    "for i in range(1,len(time_df)+1):\n",
    "    if(i<10):\n",
    "        time_key.append('T00'+str(i))\n",
    "    else:\n",
    "        time_key.append('T0'+str(i))\n",
    "time_df['TIME_KEY'] = pd.Series(time_key, index=time_df.index)\n",
    "time_df"
   ]
  }
 ],
 "metadata": {
  "kernelspec": {
   "display_name": "Python 3 (ipykernel)",
   "language": "python",
   "name": "python3"
  },
  "language_info": {
   "codemirror_mode": {
    "name": "ipython",
    "version": 3
   },
   "file_extension": ".py",
   "mimetype": "text/x-python",
   "name": "python",
   "nbconvert_exporter": "python",
   "pygments_lexer": "ipython3",
   "version": "3.10.7"
  }
 },
 "nbformat": 4,
 "nbformat_minor": 5
}
