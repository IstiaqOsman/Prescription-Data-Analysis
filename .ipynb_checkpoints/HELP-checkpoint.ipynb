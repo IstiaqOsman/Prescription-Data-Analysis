{
 "cells": [
  {
   "cell_type": "code",
   "execution_count": null,
   "id": "2cc83fff",
   "metadata": {},
   "outputs": [],
   "source": [
    "time = data.drop(['YEAR_MONTH','REGIONAL_OFFICE_NAME',\n",
    "       'REGIONAL_OFFICE_CODE', 'STP_NAME', 'STP_CODE', 'PCO_NAME', 'PCO_CODE',\n",
    "       'PRACTICE_NAME', 'PRACTICE_CODE', 'ADDRESS_1', 'ADDRESS_2', 'ADDRESS_3',\n",
    "       'ADDRESS_4', 'POSTCODE', 'BNF_CHEMICAL_SUBSTANCE',\n",
    "       'CHEMICAL_SUBSTANCE_BNF_DESCR', 'BNF_CODE', 'BNF_DESCRIPTION',\n",
    "       'BNF_CHAPTER_PLUS_CODE', 'QUANTITY', 'ITEMS', 'TOTAL_QUANTITY',\n",
    "       'ADQUSAGE', 'NIC', 'ACTUAL_COST', 'UNIDENTIFIED', 'SNOMED_CODE'], axis =1)"
   ]
  },
  {
   "cell_type": "code",
   "execution_count": null,
   "id": "6d7da30b",
   "metadata": {},
   "outputs": [],
   "source": [
    "duplicate = location[location.duplicated(subset = ['REGIONAL_OFFICE_NAME', 'REGIONAL_OFFICE_CODE', 'STP_NAME', 'STP_CODE',\n",
    "       'PCO_NAME', 'PCO_CODE', 'ADDRESS_1', 'ADDRESS_2', 'ADDRESS_3',\n",
    "       'ADDRESS_4', 'POSTCODE'] )]\n",
    "duplicate"
   ]
  },
  {
   "cell_type": "code",
   "execution_count": null,
   "id": "70e9fd16",
   "metadata": {},
   "outputs": [],
   "source": [
    "df = pd.DataFrame(time)\n",
    "time_df = df.drop_duplicates()\n",
    "time_df"
   ]
  },
  {
   "cell_type": "code",
   "execution_count": null,
   "id": "ed8c13c2",
   "metadata": {},
   "outputs": [],
   "source": [
    "TIME_KEY2 = []\n",
    "for i in range(0,len(dataDump_df)):\n",
    "    if(i<10):\n",
    "        TIME_KEY.append('T00000'+str(i))\n",
    "    elif(10<=i and i<100):\n",
    "       TIME_KEY.append('T0000'+str(i))\n",
    "    elif(100<=i and i<1000):\n",
    "       TIME_KEY.append('T000'+str(i))\n",
    "    elif(1000<=i and i<10000):\n",
    "       TIME_KEY.append('T00'+str(i))\n",
    "    elif(10000<=i and i<100000):\n",
    "       TIME_KEY.append('T0'+str(i))\n",
    "    else:\n",
    "       TIME_KEY.append('T'+str(i))\n",
    "dataDump['TIME_KEY2'] = pd.Series(TIME_KEY2, index=dataDump.index)\n",
    "dataDump"
   ]
  },
  {
   "cell_type": "code",
   "execution_count": null,
   "id": "d55fd036",
   "metadata": {},
   "outputs": [],
   "source": [
    "TIME_KEY = []\n",
    "for i in range(0,len(dataDump_df)):\n",
    "    TIME_KEY.append('T' + str(dataDump._get_value(i, 'YEAR_MONTH')))\n",
    "\n",
    "dataDump_df['TIME_KEY'] = pd.Series(TIME_KEY, index=dataDump_df.index)\n",
    "dataDump_df"
   ]
  },
  {
   "cell_type": "code",
   "execution_count": null,
   "id": "d12cabf4",
   "metadata": {},
   "outputs": [],
   "source": [
    "dataDump_df.to_excel('dataDumpvtest.xlsx')"
   ]
  },
  {
   "cell_type": "code",
   "execution_count": null,
   "id": "61ec59ba",
   "metadata": {},
   "outputs": [],
   "source": [
    "dataDump.to_csv('dataDumpv2.csv', header=True, index=False)"
   ]
  },
  {
   "cell_type": "code",
   "execution_count": null,
   "id": "d5da856e",
   "metadata": {},
   "outputs": [],
   "source": [
    "uniqueValues = location.nunique()\n",
    "print(uniqueValues)"
   ]
  },
  {
   "cell_type": "code",
   "execution_count": null,
   "id": "6d43b6b1",
   "metadata": {},
   "outputs": [],
   "source": [
    "print(df[df[‘Name’]==’Donna’].index.values)"
   ]
  },
  {
   "cell_type": "code",
   "execution_count": null,
   "id": "7cf833f5",
   "metadata": {},
   "outputs": [],
   "source": [
    "print(df.loc[index, 'age'])"
   ]
  },
  {
   "cell_type": "code",
   "execution_count": null,
   "id": "e17968e4",
   "metadata": {},
   "outputs": [],
   "source": [
    "row_count = 0\n",
    "  \n",
    "# iterating over indices\n",
    "for col in dataDump_df.index:\n",
    "    row_count += 1\n",
    "  \n",
    "# print the row count\n",
    "print(row_count)"
   ]
  },
  {
   "cell_type": "code",
   "execution_count": null,
   "id": "94b5e1f8",
   "metadata": {},
   "outputs": [],
   "source": [
    "dataDump['POSTCODE'] = dataDump['POSTCODE'].astype(str)"
   ]
  },
  {
   "cell_type": "code",
   "execution_count": null,
   "id": "e27eb162",
   "metadata": {},
   "outputs": [],
   "source": [
    "dataDump_df = dataDump_df.reset_index(drop=True)\n",
    "dataDump_df"
   ]
  },
  {
   "cell_type": "code",
   "execution_count": null,
   "id": "51f32c0b",
   "metadata": {},
   "outputs": [],
   "source": [
    "# shift column 'Name' to first position\n",
    "first_column = location.pop('LOCATION_KEY')\n",
    "  \n",
    "# insert column using insert(position,column_name,\n",
    "# first_column) function\n",
    "location.insert(0, 'LOCATION_KEY', first_column)\n",
    "location"
   ]
  }
 ],
 "metadata": {
  "kernelspec": {
   "display_name": "Python 3 (ipykernel)",
   "language": "python",
   "name": "python3"
  },
  "language_info": {
   "codemirror_mode": {
    "name": "ipython",
    "version": 3
   },
   "file_extension": ".py",
   "mimetype": "text/x-python",
   "name": "python",
   "nbconvert_exporter": "python",
   "pygments_lexer": "ipython3",
   "version": "3.10.7"
  }
 },
 "nbformat": 4,
 "nbformat_minor": 5
}
