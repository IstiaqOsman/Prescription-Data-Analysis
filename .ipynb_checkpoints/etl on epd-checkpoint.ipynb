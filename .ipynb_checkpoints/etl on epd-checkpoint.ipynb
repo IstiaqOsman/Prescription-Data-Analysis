{
 "cells": [
  {
   "cell_type": "code",
   "execution_count": 1,
   "id": "445e4586",
   "metadata": {},
   "outputs": [
    {
     "name": "stdout",
     "output_type": "stream",
     "text": [
      "Requirement already satisfied: psycopg2 in e:\\users\\abdul\\appdata\\local\\programs\\python\\python38\\lib\\site-packages (2.9.4)\n"
     ]
    },
    {
     "name": "stderr",
     "output_type": "stream",
     "text": [
      "\n",
      "[notice] A new release of pip available: 22.2.2 -> 22.3\n",
      "[notice] To update, run: python.exe -m pip install --upgrade pip\n"
     ]
    }
   ],
   "source": [
    "!pip install psycopg2\n"
   ]
  },
  {
   "cell_type": "code",
   "execution_count": 2,
   "id": "bb0fd743",
   "metadata": {},
   "outputs": [
    {
     "name": "stderr",
     "output_type": "stream",
     "text": [
      "E:\\Users\\abdul\\AppData\\Local\\Temp\\ipykernel_5112\\393714055.py:2: DtypeWarning: Columns (0,1,2,21,22,23,24,25,26,27,28) have mixed types. Specify dtype option on import or set low_memory=False.\n",
      "  data = pd.read_csv(r\"E:\\Users\\abdul\\Desktop\\new project\\prescription\\Copy of data123.csv\")\n"
     ]
    }
   ],
   "source": [
    "import pandas as pd\n",
    "data = pd.read_csv(r\"E:\\Users\\abdul\\Desktop\\new project\\prescription\\Copy of data123.csv\")"
   ]
  },
  {
   "cell_type": "code",
   "execution_count": 3,
   "id": "c154b571",
   "metadata": {},
   "outputs": [
    {
     "data": {
      "text/plain": [
       "(209994, 29)"
      ]
     },
     "execution_count": 3,
     "metadata": {},
     "output_type": "execute_result"
    }
   ],
   "source": [
    "data.shape"
   ]
  },
  {
   "cell_type": "code",
   "execution_count": 4,
   "id": "cd2b7e65",
   "metadata": {},
   "outputs": [],
   "source": [
    "location = data.drop(['YEAR_MONTH', 'YEAR', 'MONTH', \n",
    "       'PRACTICE_NAME', 'PRACTICE_CODE','BNF_CHEMICAL_SUBSTANCE',\n",
    "       'CHEMICAL_SUBSTANCE_BNF_DESCR', 'BNF_CODE', 'BNF_DESCRIPTION',\n",
    "       'BNF_CHAPTER_PLUS_CODE', 'QUANTITY', 'ITEMS', 'TOTAL_QUANTITY',\n",
    "       'ADQUSAGE', 'NIC', 'ACTUAL_COST', 'UNIDENTIFIED', 'SNOMED_CODE'],axis=1)"
   ]
  },
  {
   "cell_type": "code",
   "execution_count": 5,
   "id": "3138a3e3",
   "metadata": {},
   "outputs": [],
   "source": [
    "import numpy as np\n",
    "location.insert(0, 'LOCATION_KEY', range(100000, 100000 + len(location)))"
   ]
  },
  {
   "cell_type": "code",
   "execution_count": 6,
   "id": "22e5e05a",
   "metadata": {},
   "outputs": [],
   "source": [
    "import psycopg2\n",
    "import pandas as pd\n",
    "import psycopg2.extras"
   ]
  },
  {
   "cell_type": "code",
   "execution_count": 23,
   "id": "4161931f",
   "metadata": {},
   "outputs": [],
   "source": [
    "location['LOCATION_KEY']=location['LOCATION_KEY'].apply(str)"
   ]
  },
  {
   "cell_type": "code",
   "execution_count": 32,
   "id": "5a32f71f",
   "metadata": {},
   "outputs": [
    {
     "name": "stdout",
     "output_type": "stream",
     "text": [
      "Connection to DB established!\n"
     ]
    }
   ],
   "source": [
    "class PostgresConnection(object):\n",
    "    def __init__(self):\n",
    "        self.connection = psycopg2.connect(database=\"presdb\",\n",
    "                                           user = \"postgres\",\n",
    "                                           password = \"01873816816\",\n",
    "                                           host = \"127.0.0.1\",\n",
    "                                           port = \"5432\")\n",
    "\n",
    "    def getConnection(self):\n",
    "        print(\"Connection to DB established!\")\n",
    "        return self.connection\n",
    "con = PostgresConnection().getConnection()"
   ]
  },
  {
   "cell_type": "code",
   "execution_count": 34,
   "id": "c802f33f",
   "metadata": {},
   "outputs": [
    {
     "name": "stdout",
     "output_type": "stream",
     "text": [
      "Connection to DB established!\n"
     ]
    }
   ],
   "source": [
    "con = PostgresConnection().getConnection()\n",
    "insert_stmt = \"INSERT INTO snow.location(LOCATION_KEY,REGIONAL_OFFICE_NAME, REGIONAL_OFFICE_CODE, STP_NAME, STP_CODE,PCO_NAME, PCO_CODE, ADDRESS_1, ADDRESS_2, ADDRESS_3,ADDRESS_4, POST_CODE)\"\\\n",
    "       \"VALUES (%s,%s,%s,%s,%s,%s,%s,%s,%s,%s,%s,%s)\"\n",
    "cur = con.cursor()\n",
    "psycopg2.extras.execute_batch(cur, insert_stmt, location.values)\n",
    "con.commit()\n",
    "cur.close()"
   ]
  },
  {
   "cell_type": "code",
   "execution_count": 35,
   "id": "7eb7469e",
   "metadata": {},
   "outputs": [
    {
     "data": {
      "text/plain": [
       "array([['100000', 'NORTH WEST', 'Y62', ..., 'SOUTHDENE,KIRKBY',\n",
       "        'LIVERPOOL', 'L32 9QU'],\n",
       "       ['100001', 'NORTH WEST', 'Y62', ..., 'SOUTHDENE,KIRKBY',\n",
       "        'LIVERPOOL', 'L32 9QU'],\n",
       "       ['100002', 'NORTH WEST', 'Y62', ..., 'SOUTHDENE,KIRKBY',\n",
       "        'LIVERPOOL', 'L32 9QU'],\n",
       "       ...,\n",
       "       ['309991', 'NORTH WEST', 'Y62', ..., 'SOUTHPORT', 'MERSEYSIDE',\n",
       "        'PR8 6PG'],\n",
       "       ['309992', 'NORTH WEST', 'Y62', ..., 'SOUTHPORT', nan, 'PR9 9XL'],\n",
       "       ['309993', 'NORTH WEST', 'Y62', ..., 'ST. HELENS', 'MERSEYSIDE',\n",
       "        'WA9 3PN']], dtype=object)"
      ]
     },
     "execution_count": 35,
     "metadata": {},
     "output_type": "execute_result"
    }
   ],
   "source": [
    "location.values"
   ]
  },
  {
   "cell_type": "code",
   "execution_count": 36,
   "id": "73eaab2f",
   "metadata": {},
   "outputs": [
    {
     "data": {
      "text/plain": [
       "LOCATION_KEY            object\n",
       "REGIONAL_OFFICE_NAME    object\n",
       "REGIONAL_OFFICE_CODE    object\n",
       "STP_NAME                object\n",
       "STP_CODE                object\n",
       "PCO_NAME                object\n",
       "PCO_CODE                object\n",
       "ADDRESS_1               object\n",
       "ADDRESS_2               object\n",
       "ADDRESS_3               object\n",
       "ADDRESS_4               object\n",
       "POSTCODE                object\n",
       "dtype: object"
      ]
     },
     "execution_count": 36,
     "metadata": {},
     "output_type": "execute_result"
    }
   ],
   "source": [
    "location.dtypes"
   ]
  },
  {
   "cell_type": "code",
   "execution_count": null,
   "id": "6e1afeba",
   "metadata": {},
   "outputs": [],
   "source": []
  }
 ],
 "metadata": {
  "kernelspec": {
   "display_name": "Python 3 (ipykernel)",
   "language": "python",
   "name": "python3"
  },
  "language_info": {
   "codemirror_mode": {
    "name": "ipython",
    "version": 3
   },
   "file_extension": ".py",
   "mimetype": "text/x-python",
   "name": "python",
   "nbconvert_exporter": "python",
   "pygments_lexer": "ipython3",
   "version": "3.8.0"
  }
 },
 "nbformat": 4,
 "nbformat_minor": 5
}
